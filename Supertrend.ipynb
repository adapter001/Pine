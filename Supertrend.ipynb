{
  "nbformat": 4,
  "nbformat_minor": 0,
  "metadata": {
    "colab": {
      "provenance": [],
      "authorship_tag": "ABX9TyMN1aX84AJvKHadENVp9Wad",
      "include_colab_link": true
    },
    "kernelspec": {
      "name": "python3",
      "display_name": "Python 3"
    },
    "language_info": {
      "name": "python"
    }
  },
  "cells": [
    {
      "cell_type": "markdown",
      "metadata": {
        "id": "view-in-github",
        "colab_type": "text"
      },
      "source": [
        "<a href=\"https://colab.research.google.com/github/adapter001/Pine/blob/main/Supertrend.ipynb\" target=\"_parent\"><img src=\"https://colab.research.google.com/assets/colab-badge.svg\" alt=\"Open In Colab\"/></a>"
      ]
    },
    {
      "cell_type": "markdown",
      "source": [
        "This Supertrend script is a versatile tool for detecting and visualizing trends, generating actionable buy/sell signals, and supporting alert-driven trading strategies. It’s particularly effective for trending markets but requires careful parameter tuning and additional tools for optimal performance."
      ],
      "metadata": {
        "id": "PTmzZ_RKtimm"
      }
    },
    {
      "cell_type": "code",
      "execution_count": null,
      "metadata": {
        "id": "ePbjy1_PthFZ"
      },
      "outputs": [],
      "source": [
        "//@version=5\n",
        "indicator('Supertrend', overlay=true, format=format.price, precision=2)\n",
        "\n",
        "// Inputs\n",
        "Periods = input.int(title='ATR Period', defval=10)\n",
        "src = input.source(hl2, title='Source')  // Input source\n",
        "Multiplier = input.float(title='ATR Multiplier', step=0.1, defval=3.0)\n",
        "changeATR = input.bool(title='Change ATR Calculation Method?', defval=true)\n",
        "showsignals = input.bool(title='Show Buy/Sell Signals?', defval=true)\n",
        "highlighting = input.bool(title='Highlighter On/Off?', defval=true)\n",
        "\n",
        "// ATR Calculation\n",
        "atr = changeATR ? ta.atr(Periods) : ta.sma(ta.tr, Periods)\n",
        "\n",
        "// Supertrend Calculation\n",
        "up = src - Multiplier * atr\n",
        "up1 = nz(up[1], up)\n",
        "up := close[1] > up1 ? math.max(up, up1) : up\n",
        "\n",
        "dn = src + Multiplier * atr\n",
        "dn1 = nz(dn[1], dn)\n",
        "dn := close[1] < dn1 ? math.min(dn, dn1) : dn\n",
        "\n",
        "trend = 1\n",
        "trend := nz(trend[1], trend)\n",
        "trend := trend == -1 and close > dn1 ? 1 : trend == 1 and close < up1 ? -1 : trend\n",
        "\n",
        "// Plotting Supertrend Lines\n",
        "upPlot = plot(trend == 1 ? up : na, title='Up Trend', style=plot.style_line, linewidth=2, color=color.new(color.green, 0))\n",
        "dnPlot = plot(trend == -1 ? dn : na, title='Down Trend', style=plot.style_line, linewidth=2, color=color.new(color.red, 0))\n",
        "\n",
        "// Buy and Sell Signals\n",
        "buySignal = trend == 1 and trend[1] == -1\n",
        "sellSignal = trend == -1 and trend[1] == 1\n",
        "\n",
        "plotshape(buySignal and showsignals ? up : na, title='Buy', location=location.absolute, style=shape.labelup, text='Buy', size=size.tiny, color=color.new(color.green, 0), textcolor=color.new(color.white, 0))\n",
        "plotshape(sellSignal and showsignals ? dn : na, title='Sell', location=location.absolute, style=shape.labeldown, text='Sell', size=size.tiny, color=color.new(color.red, 0), textcolor=color.new(color.white, 0))\n",
        "\n",
        "// Highlighting the Trend\n",
        "mPlot = plot(ohlc4, title='Price Midpoint', style=plot.style_circles, linewidth=1)\n",
        "longFillColor = highlighting and trend == 1 ? color.rgb(0, 255, 0, 90) : na\n",
        "shortFillColor = highlighting and trend == -1 ? color.rgb(255, 0, 0, 90) : na\n",
        "\n",
        "fill(mPlot, upPlot, title='UpTrend Highlighter', color=longFillColor)\n",
        "fill(mPlot, dnPlot, title='DownTrend Highlighter', color=shortFillColor)\n",
        "\n",
        "// Alert Conditions\n",
        "alertcondition(buySignal, title='SuperTrend Buy', message='SuperTrend Buy!')\n",
        "alertcondition(sellSignal, title='SuperTrend Sell', message='SuperTrend Sell!')\n",
        "changeCond = trend != trend[1]\n",
        "alertcondition(changeCond, title='SuperTrend Direction Change', message='SuperTrend has changed direction!')\n"
      ]
    }
  ]
}