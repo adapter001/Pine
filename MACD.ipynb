{
  "nbformat": 4,
  "nbformat_minor": 0,
  "metadata": {
    "colab": {
      "provenance": [],
      "authorship_tag": "ABX9TyP6JwF1sRhYUbydhxTXF22l",
      "include_colab_link": true
    },
    "kernelspec": {
      "name": "python3",
      "display_name": "Python 3"
    },
    "language_info": {
      "name": "python"
    }
  },
  "cells": [
    {
      "cell_type": "markdown",
      "metadata": {
        "id": "view-in-github",
        "colab_type": "text"
      },
      "source": [
        "<a href=\"https://colab.research.google.com/github/adapter001/Pine/blob/main/MACD.ipynb\" target=\"_parent\"><img src=\"https://colab.research.google.com/assets/colab-badge.svg\" alt=\"Open In Colab\"/></a>"
      ]
    },
    {
      "cell_type": "markdown",
      "source": [
        "Learning Pine script for tradingview"
      ],
      "metadata": {
        "id": "SNz08d21gf7z"
      }
    },
    {
      "cell_type": "code",
      "execution_count": null,
      "metadata": {
        "id": "z_y74oKygdqj"
      },
      "outputs": [],
      "source": [
        "#MACD #1\n",
        "//@version=6\n",
        "indicator(\"MACD #1\")\n",
        "fast = 12\n",
        "slow = 26\n",
        "fastMA = ta.ema(close, fast)\n",
        "slowMA = ta.ema(close, slow)\n",
        "macd = fastMA - slowMA\n",
        "signal = ta.ema(macd, 9)\n",
        "plot(macd, color = color.blue)\n",
        "plot(signal, color = color.orange)"
      ]
    },
    {
      "cell_type": "code",
      "source": [
        "#MACD #2\n",
        "//@version=6\n",
        "indicator(\"MACD #2\")\n",
        "fastInput = input(12, \"Fast length\")\n",
        "slowInput = input(26, \"Slow length\")\n",
        "[macdLine, signalLine, histLine] = ta.macd(close, fastInput, slowInput, 9)\n",
        "plot(macdLine, color = color.blue)\n",
        "plot(signalLine, color = color.orange)"
      ],
      "metadata": {
        "id": "5pa37htHlLM3"
      },
      "execution_count": null,
      "outputs": []
    },
    {
      "cell_type": "code",
      "source": [
        "#MACD #1 indicator\n",
        "\n",
        "#This is a compiler annotation telling the compiler the script will use version 6 of Pine Script™.\n",
        "//@version=6\n",
        "\n",
        "#Defines the name of the script that will appear on the chart as “MACD”.\n",
        "indicator(\"MACD #1\")\n",
        "\n",
        "#Defines a fast integer variable which will be the length of the fast EMA.\n",
        "fast = 12\n",
        "\n",
        "#Defines a slow integer variable which will be the length of the slow EMA.\n",
        "slow = 26\n",
        "\n",
        "#Defines the variable fastMA, containing the result of the EMA calculation\n",
        "#(Exponential Moving Average) with a length equal to fast (12), on the close\n",
        "#series, i.e., the closing price of bars.\n",
        "fastMA = ta.ema(close, fast)\n",
        "\n",
        "#Defines the variable slowMA, containing the result of the EMA calculation\n",
        "#with a length equal to slow (26), from close.\n",
        "slowMA = ta.ema(close, slow)\n",
        "\n",
        "#Defines the variable macd as the difference between the two EMAs.\n",
        "macd = fastMA - slowMA\n",
        "\n",
        "#efines the variable signal as a smoothed value of macd using the EMA algorithm\n",
        "#(Exponential Moving Average) with a length of 9.\n",
        "signal = ta.ema(macd, 9)\n",
        "\n",
        "#Calls the plot function to output the variable macd using a blue line.\n",
        "plot(macd, color = color.blue)\n",
        "\n",
        "#Calls the plot function to output the variable signal using an orange line.\n",
        "plot(signal, color = color.orange)"
      ],
      "metadata": {
        "id": "YAc_Txmsg7oZ"
      },
      "execution_count": null,
      "outputs": []
    }
  ]
}